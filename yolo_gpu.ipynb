{
 "cells": [
  {
   "cell_type": "code",
   "execution_count": 10,
   "id": "956eb431",
   "metadata": {},
   "outputs": [
    {
     "name": "stdout",
     "output_type": "stream",
     "text": [
      "Using device: cuda\n",
      "\n",
      "0: 640x640 1 person, 53.4ms\n",
      "Speed: 17.4ms preprocess, 53.4ms inference, 11.7ms postprocess per image at shape (1, 3, 640, 640)\n",
      "✅ Annotated image saved: C:\\my_files\\cdsaml\\VTO-Inpainting-1\\train\\annotated\\boy hammer[1].jpg\n",
      "\n",
      "0: 640x640 1 person, 51.7ms\n",
      "Speed: 9.8ms preprocess, 51.7ms inference, 6.6ms postprocess per image at shape (1, 3, 640, 640)\n",
      "✅ Annotated image saved: C:\\my_files\\cdsaml\\VTO-Inpainting-1\\train\\annotated\\download-15-_jpeg.rf.981d51a06475286441ff72111b76ff99.jpg\n",
      "\n",
      "0: 640x640 1 person, 58.3ms\n",
      "Speed: 10.7ms preprocess, 58.3ms inference, 7.8ms postprocess per image at shape (1, 3, 640, 640)\n",
      "✅ Annotated image saved: C:\\my_files\\cdsaml\\VTO-Inpainting-1\\train\\annotated\\download-15-_jpeg.rf.c02183f52541b942914d38d5f6dcf0ee.jpg\n",
      "\n",
      "0: 640x640 1 person, 40.8ms\n",
      "Speed: 10.3ms preprocess, 40.8ms inference, 8.0ms postprocess per image at shape (1, 3, 640, 640)\n",
      "✅ Annotated image saved: C:\\my_files\\cdsaml\\VTO-Inpainting-1\\train\\annotated\\download-15-_jpeg.rf.e55b23244383a1a0b9bd14e0b94ecb6f.jpg\n",
      "\n",
      "0: 640x640 1 cat, 1 dog, 30.1ms\n",
      "Speed: 9.4ms preprocess, 30.1ms inference, 12.3ms postprocess per image at shape (1, 3, 640, 640)\n",
      "✅ Annotated image saved: C:\\my_files\\cdsaml\\VTO-Inpainting-1\\train\\annotated\\inpainted_result.png\n",
      "\n",
      "0: 640x640 1 person, 36.2ms\n",
      "Speed: 7.9ms preprocess, 36.2ms inference, 7.9ms postprocess per image at shape (1, 3, 640, 640)\n",
      "✅ Annotated image saved: C:\\my_files\\cdsaml\\VTO-Inpainting-1\\train\\annotated\\kurta_jpeg.rf.4bf057b6382f47965a1a6123f280af90.jpg\n",
      "\n",
      "0: 640x640 1 person, 37.2ms\n",
      "Speed: 7.1ms preprocess, 37.2ms inference, 12.6ms postprocess per image at shape (1, 3, 640, 640)\n",
      "✅ Annotated image saved: C:\\my_files\\cdsaml\\VTO-Inpainting-1\\train\\annotated\\kurta_jpeg.rf.c331c5527f6d5b6c87ebf53eb2312cda.jpg\n",
      "\n",
      "0: 640x640 (no detections), 38.1ms\n",
      "Speed: 7.3ms preprocess, 38.1ms inference, 4.3ms postprocess per image at shape (1, 3, 640, 640)\n",
      "✅ Annotated image saved: C:\\my_files\\cdsaml\\VTO-Inpainting-1\\train\\annotated\\kurta_jpeg.rf.f952cd587ef8ac15066c7bbaef188f2e.jpg\n",
      "🎉 Detection complete for all images.\n"
     ]
    }
   ],
   "source": [
    "from ultralytics import YOLO\n",
    "import cv2\n",
    "import torch\n",
    "import os\n",
    "\n",
    "# Set device\n",
    "device = 'cuda' if torch.cuda.is_available() else 'cpu'\n",
    "print(f\"Using device: {device}\")\n",
    "\n",
    "# Load YOLOv8 model to GPU\n",
    "model = YOLO(r\"C:\\my_files\\cdsaml\\yolov8n.pt\").to(device)\n",
    "\n",
    "# Dataset directories (adjust if necessary)\n",
    "images_folder = r\"C:\\my_files\\cdsaml\\VTO-Inpainting-1\\train\\images\"\n",
    "output_folder = r\"C:\\my_files\\cdsaml\\VTO-Inpainting-1\\train\\annotated\"\n",
    "os.makedirs(output_folder, exist_ok=True)\n",
    "\n",
    "# Process each image in the folder\n",
    "for filename in os.listdir(images_folder):\n",
    "    if filename.lower().endswith(('.jpg', '.png', '.jpeg')):\n",
    "        img_path = os.path.join(images_folder, filename)\n",
    "        image = cv2.imread(img_path)\n",
    "        image = cv2.resize(image, (640, 640))\n",
    "\n",
    "        # Run inference\n",
    "        results = model.predict(source=image, device=device)\n",
    "        annotated_image = results[0].plot()\n",
    "\n",
    "        # Save annotated output\n",
    "        output_path = os.path.join(output_folder, filename)\n",
    "        cv2.imwrite(output_path, annotated_image)\n",
    "        print(f\"✅ Annotated image saved: {output_path}\")\n",
    "\n",
    "print(\"🎉 Detection complete for all images.\")\n"
   ]
  },
  {
   "cell_type": "code",
   "execution_count": null,
   "id": "204e815f",
   "metadata": {},
   "outputs": [],
   "source": []
  }
 ],
 "metadata": {
  "kernelspec": {
   "display_name": "Python 3.12 (ultralytics)",
   "language": "python",
   "name": "python312"
  }
 },
 "nbformat": 4,
 "nbformat_minor": 5
}
