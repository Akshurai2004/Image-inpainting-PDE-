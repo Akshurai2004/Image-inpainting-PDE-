{
 "cells": [
  {
   "cell_type": "code",
   "execution_count": 1,
   "id": "a4b2ec8f-8f99-4be0-a0e3-67c750977c2d",
   "metadata": {},
   "outputs": [
    {
     "ename": "SyntaxError",
     "evalue": "invalid syntax (1858933614.py, line 26)",
     "output_type": "error",
     "traceback": [
      "\u001b[1;36m  Cell \u001b[1;32mIn[1], line 26\u001b[1;36m\u001b[0m\n\u001b[1;33m    mask2 = cv2..inRange(hsv2,lower_color2,upper_color2)\u001b[0m\n\u001b[1;37m                ^\u001b[0m\n\u001b[1;31mSyntaxError\u001b[0m\u001b[1;31m:\u001b[0m invalid syntax\n"
     ]
    }
   ],
   "source": [
    "import cv2\n",
    "import numpy as np\n",
    "import matplotlib.pyplot as plt\n",
    "\n",
    "# Step 1: Load a color image with corrected path\n",
    "image1 = cv2.imread(r\"C:\\my_files\\cdsaml\\animal1[1].jpg\")\n",
    "if image1 is None:\n",
    "    raise FileNotFoundError(\"Image file not found. Check the file path.\")\n",
    "\n",
    "image1_rgb = cv2.cvtColor(image1, cv2.COLOR_BGR2RGB)  # For display\n",
    "image2=cv2.imread(r\"\")\n",
    "if image2 is None:\n",
    "    raise FileNotFoundError(\"image2 not found\")\n",
    "image2_rgb=cv2.cvtColor(image2,cv2.COLOR_BGR2RGB)\n",
    "# Step 2: Convert to HSV color space\n",
    "hsv1 = cv2.cvtColor(image1, cv2.COLOR_BGR2HSV)\n",
    "hsv2 = cv2.cvtColor(image2, cv2.COLOR_BGR2HSV)\n",
    "\n",
    "# Step 3: Define blue color range mask (adjust if needed)\n",
    "lower_color1 = np.array([100, 120, 70])\n",
    "upper_color1 = np.array([140, 255, 255])\n",
    "mask1= cv2.inRange(hsv1, lower_color1, upper_color1)\n",
    "\n",
    "lower_color2 = np.array([])\n",
    "upper_color2=np.array([])\n",
    "mask2 = cv2..inRange(hsv2,lower_color2,upper_color2)\n",
    "\n",
    "# Step 4: Prepare binary mask for PDE\n",
    "mask_bin1 = (mask1 > 0).astype(np.uint8)\n",
    "mask_float1 = mask_bin1.astype(np.float32)\n",
    "mask_bin2 = (mask2 > 0).astype(np.uint8)\n",
    "mask_float2 = mask_bin2.astype(np.float32)\n",
    "\n",
    "# Step 5: Convert image to float32 for PDE processing\n",
    "image_float = image.astype(np.float32)\n",
    "\n",
    "# Step 6: PDE inpainting function (Laplacian diffusion) applied per channel\n",
    "def pde_inpaint_color(img, mask, num_iter=500, dt=0.1):\n",
    "    inpainted = img.copy()\n",
    "    for _ in range(num_iter):\n",
    "        for c in range(3):\n",
    "            lap = cv2.Laplacian(inpainted[:, :, c], cv2.CV_32F)\n",
    "            inpainted[:, :, c] += dt * lap * mask\n",
    "    return np.clip(inpainted, 0, 255).astype(np.uint8)\n",
    "\n",
    "# Step 7: Perform inpainting\n",
    "result = pde_inpaint_color(image_float, mask_float, num_iter=500, dt=0.1)\n",
    "\n",
    "# Step 8: Visualization\n",
    "plt.figure(figsize=(15, 5))\n",
    "\n",
    "plt.subplot(1, 3, 1)\n",
    "plt.imshow(image_rgb)\n",
    "plt.title('Original Image')\n",
    "plt.axis('off')\n",
    "\n",
    "plt.subplot(1, 3, 2)\n",
    "plt.imshow(mask, cmap='gray')\n",
    "plt.title('Mask (blue Object)')\n",
    "plt.axis('off')\n",
    "\n",
    "plt.subplot(1, 3, 3)\n",
    "plt.imshow(cv2.cvtColor(result, cv2.COLOR_BGR2RGB))\n",
    "plt.title('Inpainted Result')\n",
    "plt.axis('off')\n",
    "\n",
    "plt.show()\n",
    "\n",
    "# Step 9: Save outputs (optional)\n",
    "cv2.imwrite('mask.png', mask)\n",
    "cv2.imwrite('inpainted_result.png', result)\n"
   ]
  },
  {
   "cell_type": "code",
   "execution_count": null,
   "id": "764a174f-453a-46ac-8a6f-618b44ac0c8e",
   "metadata": {},
   "outputs": [],
   "source": []
  }
 ],
 "metadata": {
  "kernelspec": {
   "display_name": "Python 3",
   "language": "python",
   "name": "python3"
  },
  "language_info": {
   "codemirror_mode": {
    "name": "ipython",
    "version": 3
   },
   "file_extension": ".py",
   "mimetype": "text/x-python",
   "name": "python",
   "nbconvert_exporter": "python",
   "pygments_lexer": "ipython3",
   "version": "3.11.5"
  }
 },
 "nbformat": 4,
 "nbformat_minor": 5
}
